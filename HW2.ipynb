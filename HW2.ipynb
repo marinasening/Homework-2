{
 "cells": [
  {
   "cell_type": "code",
   "execution_count": 39,
   "metadata": {},
   "outputs": [
    {
     "name": "stdout",
     "output_type": "stream",
     "text": [
      "o\n"
     ]
    }
   ],
   "source": [
    "#Задание 1\n",
    "\n",
    "world = 'close'\n",
    "if len (world) % 2 == 0:\n",
    "    print (world[int(len (world)/2 - 1)], world [int (len (world)/2)])\n",
    "else:\n",
    "    print (world[int(len (world)/2)])"
   ]
  },
  {
   "cell_type": "code",
   "execution_count": 216,
   "metadata": {},
   "outputs": [
    {
     "name": "stdout",
     "output_type": "stream",
     "text": [
      "Ввeдите число:\n",
      "7\n",
      "Ввeдите число:\n",
      "5\n",
      "Ввeдите число:\n",
      "0\n",
      "Результат:\n",
      "12\n"
     ]
    }
   ],
   "source": [
    "# Задание 2\n",
    "\n",
    "all_numbers = 0\n",
    "while True:\n",
    "    print ('Ввeдите число:')\n",
    "    number = int (input())\n",
    "    if number != 0:\n",
    "        pass\n",
    "    if number == 0:\n",
    "        print ('Результат:')\n",
    "        print (all_numbers)\n",
    "        break\n",
    "    all_numbers += number"
   ]
  },
  {
   "cell_type": "code",
   "execution_count": 217,
   "metadata": {},
   "outputs": [
    {
     "name": "stdout",
     "output_type": "stream",
     "text": [
      "Идеальные пары:\n",
      "Alex и Emma\n",
      "Arthur и Kate\n",
      "John и Kira\n",
      "Peter и Liza\n",
      "Richard и Trisha\n"
     ]
    }
   ],
   "source": [
    "#Задание 3\n",
    "\n",
    "boys = ['Peter', 'Alex', 'John', 'Arthur', 'Richard']\n",
    "girls = ['Kate', 'Liza', 'Kira', 'Emma', 'Trisha']\n",
    "couples = zip (sorted (boys), sorted (girls))\n",
    "if len (sorted (boys)) == len (sorted (girls)):\n",
    "    print ('Идеальные пары:')\n",
    "    for ideal_couples in couples:\n",
    "        print (ideal_couples[0], 'и', ideal_couples[1])\n",
    "else:\n",
    "    print ('Внимание, кто-то может остаться без пары!')\n",
    "    "
   ]
  },
  {
   "cell_type": "code",
   "execution_count": 181,
   "metadata": {},
   "outputs": [
    {
     "name": "stdout",
     "output_type": "stream",
     "text": [
      "Средняя температура в странах:\n",
      "Thailand — 23.9 C\n",
      "Germany — 13.8 C\n",
      "Russia — 3.7 C\n",
      "Poland — 12.0 C\n"
     ]
    }
   ],
   "source": [
    "#Задание 4\n",
    "\n",
    "countries_temperature = [\n",
    "    ['Thailand', [75.2, 77, 78.8, 73.4, 68, 75.2, 77]],\n",
    "    ['Germany', [57.2, 55.4, 59, 59, 53.6]],\n",
    "    ['Russia', [35.6, 37.4, 39.2, 41, 42.8, 39.2, 35.6]],\n",
    "    ['Poland', [50, 50, 53.6, 57.2, 55.4, 55.4]]\n",
    "]\n",
    "print ('Средняя температура в странах:')\n",
    "for temperatures in countries_temperature:\n",
    "    avg_temperature = (sum(temperatures[1]))/len(temperatures[1])\n",
    "    temperature_C = round((avg_temperature-32)*5/9, 1)\n",
    "    print (temperatures[0], '—', temperature_C, 'C')"
   ]
  }
 ],
 "metadata": {
  "kernelspec": {
   "display_name": "Python 3",
   "language": "python",
   "name": "python3"
  },
  "language_info": {
   "codemirror_mode": {
    "name": "ipython",
    "version": 3
   },
   "file_extension": ".py",
   "mimetype": "text/x-python",
   "name": "python",
   "nbconvert_exporter": "python",
   "pygments_lexer": "ipython3",
   "version": "3.8.5"
  }
 },
 "nbformat": 4,
 "nbformat_minor": 4
}
